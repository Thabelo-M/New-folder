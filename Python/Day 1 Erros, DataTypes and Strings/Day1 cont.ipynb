{
 "cells": [
  {
   "cell_type": "markdown",
   "id": "3b482326-c890-40fa-9a56-9c886842dcb0",
   "metadata": {},
   "source": [
    "Create a String"
   ]
  },
  {
   "cell_type": "code",
   "execution_count": 6,
   "id": "70160789-32b9-46bc-b882-8bd2e75096d5",
   "metadata": {},
   "outputs": [
    {
     "name": "stdout",
     "output_type": "stream",
     "text": [
      "dee-dun-dun-dun-dee-dun-dun-dun-da!!!\n"
     ]
    }
   ],
   "source": [
    "# Create the string\n",
    "name = \"dee-dun-dun-dun-\"\n",
    "full_string = name * 2 + \"da!!!\"\n",
    "print(full_string)"
   ]
  },
  {
   "cell_type": "markdown",
   "id": "af024e33-b7b8-450f-af85-750f4dfb3ce2",
   "metadata": {},
   "source": [
    "Create a new variable bug with the String value"
   ]
  },
  {
   "cell_type": "code",
   "execution_count": 10,
   "id": "7b35ba8b-ceeb-4a31-a941-f951892e7117",
   "metadata": {},
   "outputs": [
    {
     "name": "stdout",
     "output_type": "stream",
     "text": [
      "It’s not a bug - it’s an undocumented feature.\n"
     ]
    }
   ],
   "source": [
    "# Assign the string to the variable 'bug'\n",
    "bug = \"It’s not a bug - it’s an undocumented feature.\"\n",
    "print(bug)"
   ]
  },
  {
   "cell_type": "markdown",
   "id": "64b97bec-e260-4a9c-a171-b916a3088437",
   "metadata": {},
   "source": [
    "Find the length of bug"
   ]
  },
  {
   "cell_type": "code",
   "execution_count": 14,
   "id": "47b5b5bf-6dea-4ed1-923d-2ba05f9e3f2d",
   "metadata": {},
   "outputs": [
    {
     "name": "stdout",
     "output_type": "stream",
     "text": [
      "Length of 'bug': 46\n"
     ]
    }
   ],
   "source": [
    "# Find the length of the string 'bug'\n",
    "length_of_bug = len(bug)\n",
    "print(\"Length of 'bug':\", length_of_bug)"
   ]
  },
  {
   "cell_type": "markdown",
   "id": "196a656b-6802-49ca-9518-a7a8b8016178",
   "metadata": {},
   "source": [
    "Create a new variable containing every 3rd letter from bug"
   ]
  },
  {
   "cell_type": "code",
   "execution_count": 20,
   "id": "b34af1b6-03fd-4d56-8117-c21c48c46864",
   "metadata": {},
   "outputs": [
    {
     "name": "stdout",
     "output_type": "stream",
     "text": [
      "Every 3rd letter between 5 and 40: n b isnnceef\n"
     ]
    }
   ],
   "source": [
    "# Extract every 3rd letter from index 5 to 40\n",
    "third = bug[5:41:3]\n",
    "print(\"Every 3rd letter between 5 and 40:\", third)"
   ]
  },
  {
   "cell_type": "markdown",
   "id": "7dc2320f-50db-48bf-aa11-d9b4f8b6f1e6",
   "metadata": {},
   "source": [
    "Create another variable that will contain the original String in reverse order."
   ]
  },
  {
   "cell_type": "code",
   "execution_count": 30,
   "id": "a3a675c2-7273-4659-b034-eead67029069",
   "metadata": {},
   "outputs": [
    {
     "name": "stdout",
     "output_type": "stream",
     "text": [
      "Reversed 'bug': .erutaef detnemucodnu na s’ti - gub a ton s’tI\n"
     ]
    }
   ],
   "source": [
    "# Reverse the string 'bug'\n",
    "reversed_bug = bug[::-1]\n",
    "print(\"Reversed 'bug':\", reversed_bug)"
   ]
  },
  {
   "cell_type": "code",
   "execution_count": null,
   "id": "62c21db7-a567-4e55-ad6a-36db0b1bdff3",
   "metadata": {},
   "outputs": [],
   "source": []
  }
 ],
 "metadata": {
  "kernelspec": {
   "display_name": "Python 3 (ipykernel)",
   "language": "python",
   "name": "python3"
  },
  "language_info": {
   "codemirror_mode": {
    "name": "ipython",
    "version": 3
   },
   "file_extension": ".py",
   "mimetype": "text/x-python",
   "name": "python",
   "nbconvert_exporter": "python",
   "pygments_lexer": "ipython3",
   "version": "3.12.4"
  }
 },
 "nbformat": 4,
 "nbformat_minor": 5
}

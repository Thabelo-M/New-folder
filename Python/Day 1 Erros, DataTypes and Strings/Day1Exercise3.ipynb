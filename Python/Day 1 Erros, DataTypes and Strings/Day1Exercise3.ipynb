{
 "cells": [
  {
   "cell_type": "markdown",
   "id": "ecc19949-98d6-4fb3-a872-1c2efb39ecee",
   "metadata": {},
   "source": [
    "1. What is the type of the result of: 6 // 2?"
   ]
  },
  {
   "cell_type": "code",
   "execution_count": 3,
   "id": "df6bdb8b-a78f-4792-92c2-ad8fb22d3394",
   "metadata": {},
   "outputs": [
    {
     "name": "stdout",
     "output_type": "stream",
     "text": [
      "3\n",
      "<class 'int'>\n"
     ]
    }
   ],
   "source": [
    "# Integer divison, it eliminates the fraction/decimal\n",
    "result = 6 // 2\n",
    "print(result)        \n",
    "print(type(result))"
   ]
  },
  {
   "cell_type": "markdown",
   "id": "dc09577b-570c-4bac-81e9-ee8096e14a51",
   "metadata": {},
   "source": [
    "1.1 Using 1 / "
   ]
  },
  {
   "cell_type": "code",
   "execution_count": 7,
   "id": "5546f633-53f0-405e-b256-3819d4c44a74",
   "metadata": {},
   "outputs": [
    {
     "name": "stdout",
     "output_type": "stream",
     "text": [
      "3.0\n",
      "<class 'float'>\n"
     ]
    }
   ],
   "source": [
    "#Just testing\n",
    "result = 6 / 2\n",
    "print(result)        \n",
    "print(type(result))"
   ]
  },
  {
   "cell_type": "markdown",
   "id": "4b7e8028-f60c-4a89-ac81-ee05f06ad937",
   "metadata": {},
   "source": [
    "2. What is 160 minutes in hours?"
   ]
  },
  {
   "cell_type": "code",
   "execution_count": 11,
   "id": "3c7249f3-86ed-4d8a-850f-69317873e503",
   "metadata": {},
   "outputs": [
    {
     "name": "stdout",
     "output_type": "stream",
     "text": [
      "2.6666666666666665\n"
     ]
    }
   ],
   "source": [
    "#Convert 160 mins to hours\n",
    "hours = 160 / 60\n",
    "print(hours)"
   ]
  },
  {
   "cell_type": "markdown",
   "id": "19f05dd6-9453-4b79-8188-4f5618973fb4",
   "metadata": {},
   "source": [
    "3. What is the value of x?"
   ]
  },
  {
   "cell_type": "code",
   "execution_count": 15,
   "id": "8ee2e814-91e2-4c49-91e2-660bc11b7f80",
   "metadata": {},
   "outputs": [
    {
     "name": "stdout",
     "output_type": "stream",
     "text": [
      "7\n"
     ]
    }
   ],
   "source": [
    "# Calculate the value of x:\n",
    "x = 3 + 2 * 2\n",
    "print(x) "
   ]
  },
  {
   "cell_type": "markdown",
   "id": "ea673f37-18f6-41b0-884b-d35266031af0",
   "metadata": {},
   "source": [
    "4. What is the value of y?"
   ]
  },
  {
   "cell_type": "code",
   "execution_count": 23,
   "id": "914c5f70-8c22-4cde-a9c2-477a1334f4a3",
   "metadata": {},
   "outputs": [
    {
     "name": "stdout",
     "output_type": "stream",
     "text": [
      "10\n"
     ]
    }
   ],
   "source": [
    "# Calculate the value of y:\n",
    "y = (3 + 2) * 2\n",
    "print(y) "
   ]
  },
  {
   "cell_type": "markdown",
   "id": "193ec83d-1568-4968-a711-05a860bbd7d0",
   "metadata": {},
   "source": [
    "5. What is the value of z?"
   ]
  },
  {
   "cell_type": "code",
   "execution_count": 27,
   "id": "a1d2943b-bcad-49ee-bf26-5668ed1b478e",
   "metadata": {},
   "outputs": [
    {
     "name": "stdout",
     "output_type": "stream",
     "text": [
      "17\n"
     ]
    }
   ],
   "source": [
    "# Calculate the value of z:\n",
    "z = x + y\n",
    "print(z)"
   ]
  }
 ],
 "metadata": {
  "kernelspec": {
   "display_name": "Python 3 (ipykernel)",
   "language": "python",
   "name": "python3"
  },
  "language_info": {
   "codemirror_mode": {
    "name": "ipython",
    "version": 3
   },
   "file_extension": ".py",
   "mimetype": "text/x-python",
   "name": "python",
   "nbconvert_exporter": "python",
   "pygments_lexer": "ipython3",
   "version": "3.12.4"
  }
 },
 "nbformat": 4,
 "nbformat_minor": 5
}

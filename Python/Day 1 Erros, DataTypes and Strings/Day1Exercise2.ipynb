{
 "cells": [
  {
   "cell_type": "markdown",
   "id": "8b1815ea-5d86-4d1f-b58c-0fb232b65d6d",
   "metadata": {},
   "source": [
    "1. Using the print() function, print out the phrase: \"Hello world!\""
   ]
  },
  {
   "cell_type": "code",
   "execution_count": 3,
   "id": "dfdc39af-8727-4bc4-86f1-91f1f39d0778",
   "metadata": {},
   "outputs": [
    {
     "name": "stdout",
     "output_type": "stream",
     "text": [
      "Hello world!\n"
     ]
    }
   ],
   "source": [
    "# printing Hello World\n",
    "print(\"Hello world!\")"
   ]
  },
  {
   "cell_type": "markdown",
   "id": "8a034c58-aa7a-49f3-b11a-b36550b96ecd",
   "metadata": {},
   "source": [
    "2. Using the type() function, check the object type of 32.0?"
   ]
  },
  {
   "cell_type": "code",
   "execution_count": 7,
   "id": "281fcb1e-b675-4458-b2e1-36bc4b92e776",
   "metadata": {},
   "outputs": [
    {
     "name": "stdout",
     "output_type": "stream",
     "text": [
      "<class 'float'>\n"
     ]
    }
   ],
   "source": [
    "# Finding the type of 32.0\n",
    "print(type(32.0))"
   ]
  },
  {
   "cell_type": "markdown",
   "id": "5b1eb68d-8ade-4630-bedd-ad949d44c09a",
   "metadata": {},
   "source": [
    "3. What is the type of the result of: 12 / 2?"
   ]
  },
  {
   "cell_type": "code",
   "execution_count": 11,
   "id": "c7bb74ed-01e8-4a2d-b82a-8c0d83a8c13b",
   "metadata": {},
   "outputs": [
    {
     "name": "stdout",
     "output_type": "stream",
     "text": [
      "<class 'float'>\n"
     ]
    }
   ],
   "source": [
    "# Finding the type of 12 / 2\n",
    "print(type(12 / 2)) "
   ]
  },
  {
   "cell_type": "markdown",
   "id": "19f2188c-0d94-4358-a519-4e19ef5af22e",
   "metadata": {},
   "source": [
    "4. What is type of \"&\"?"
   ]
  },
  {
   "cell_type": "code",
   "execution_count": 15,
   "id": "44d8d7f8-928a-447c-ad9e-6c93f953ee1b",
   "metadata": {},
   "outputs": [
    {
     "name": "stdout",
     "output_type": "stream",
     "text": [
      "<class 'str'>\n"
     ]
    }
   ],
   "source": [
    "# Finding the type of \"&\"\n",
    "print(type(\"&\")) "
   ]
  },
  {
   "cell_type": "markdown",
   "id": "67ad4ac3-399c-46cb-bcb8-697f841e4c7b",
   "metadata": {},
   "source": [
    "5. Assign variables the values “What?”, True, 42 and print those variables."
   ]
  },
  {
   "cell_type": "code",
   "execution_count": 19,
   "id": "60f2d3f4-1a5d-4abd-b210-77de2279a5cf",
   "metadata": {},
   "outputs": [
    {
     "name": "stdout",
     "output_type": "stream",
     "text": [
      "What?\n",
      "True\n",
      "42\n"
     ]
    }
   ],
   "source": [
    "# Assign variables: what, true and 42\n",
    "anaconda = \"What?\"\n",
    "navigator = True\n",
    "jupyter = 42\n",
    "\n",
    "# Print the variables\n",
    "print(anaconda)   \n",
    "print(navigator)  \n",
    "print(jupyter)   "
   ]
  },
  {
   "cell_type": "markdown",
   "id": "e34c5221-49c6-462d-bc40-2f3790764432",
   "metadata": {},
   "source": [
    "6. Using the input() function, ask the user “How old are you?” and assign it to a variable. "
   ]
  },
  {
   "cell_type": "code",
   "execution_count": 24,
   "id": "9b163934-b3e1-4675-acfa-2d0bbea561e0",
   "metadata": {},
   "outputs": [
    {
     "name": "stdout",
     "output_type": "stream",
     "text": [
      "Hi\n"
     ]
    },
    {
     "name": "stdin",
     "output_type": "stream",
     "text": [
      "How old are you 20\n"
     ]
    },
    {
     "data": {
      "text/plain": [
       "'20'"
      ]
     },
     "execution_count": 24,
     "metadata": {},
     "output_type": "execute_result"
    }
   ],
   "source": [
    "# Ask the user for input\n",
    "print(\"Hi\")\n",
    "input(\"How old are you\")"
   ]
  },
  {
   "cell_type": "markdown",
   "id": "da9b4660-ecdc-4fb3-8467-df077cea4155",
   "metadata": {},
   "source": [
    "6.1 Type of the input and covert to something else"
   ]
  },
  {
   "cell_type": "code",
   "execution_count": 30,
   "id": "ac1adbd8-6e3f-4561-9431-8d03e81342d2",
   "metadata": {},
   "outputs": [
    {
     "name": "stdin",
     "output_type": "stream",
     "text": [
      "How old are you? 20\n"
     ]
    },
    {
     "name": "stdout",
     "output_type": "stream",
     "text": [
      "20\n",
      "<class 'str'>\n",
      "<class 'int'>\n"
     ]
    }
   ],
   "source": [
    "# Ask user for input\n",
    "Age = input(\"How old are you?\")\n",
    "\n",
    "# Print the variable and its type\n",
    "print(Age)            \n",
    "print(type(Age)) \n",
    "\n",
    "# Convert age from string to integer\n",
    "Age = int(Age)\n",
    "print(type(Age)) "
   ]
  },
  {
   "cell_type": "markdown",
   "id": "b97c732b-21b6-4745-987d-588f41ae98c6",
   "metadata": {},
   "source": [
    "7. Assign the value “Hi” to the variable n. Now assign n the value 1.0. Print the variable n."
   ]
  },
  {
   "cell_type": "code",
   "execution_count": 34,
   "id": "cfcae100-813c-4603-b834-594822582714",
   "metadata": {},
   "outputs": [
    {
     "name": "stdout",
     "output_type": "stream",
     "text": [
      "Hi\n",
      "1.0\n"
     ]
    }
   ],
   "source": [
    "# Assign values to n: Hi and 1.0\n",
    "n = \"Hi\"\n",
    "print(n) \n",
    "\n",
    "# Assign n a new value\n",
    "n = 1.0\n",
    "print(n)"
   ]
  },
  {
   "cell_type": "markdown",
   "id": "f34ba19a-a3b5-4580-b27c-6a4f233297e8",
   "metadata": {},
   "source": [
    "8. Find examples for the 3 different error types."
   ]
  },
  {
   "cell_type": "code",
   "execution_count": 38,
   "id": "f9482e99-1d05-4015-b4e1-f2112538d59a",
   "metadata": {},
   "outputs": [
    {
     "ename": "SyntaxError",
     "evalue": "unterminated string literal (detected at line 2) (1396546873.py, line 2)",
     "output_type": "error",
     "traceback": [
      "\u001b[1;36m  Cell \u001b[1;32mIn[38], line 2\u001b[1;36m\u001b[0m\n\u001b[1;33m    print(\"Hello world!\u001b[0m\n\u001b[1;37m          ^\u001b[0m\n\u001b[1;31mSyntaxError\u001b[0m\u001b[1;31m:\u001b[0m unterminated string literal (detected at line 2)\n"
     ]
    }
   ],
   "source": [
    "#SyntaxError\n",
    "print(\"Hello world!"
   ]
  },
  {
   "cell_type": "code",
   "execution_count": 40,
   "id": "93ff7748-668c-4f7e-bc23-f4945af19945",
   "metadata": {},
   "outputs": [
    {
     "ename": "ZeroDivisionError",
     "evalue": "division by zero",
     "output_type": "error",
     "traceback": [
      "\u001b[1;31m---------------------------------------------------------------------------\u001b[0m",
      "\u001b[1;31mZeroDivisionError\u001b[0m                         Traceback (most recent call last)",
      "Cell \u001b[1;32mIn[40], line 4\u001b[0m\n\u001b[0;32m      2\u001b[0m Run \u001b[38;5;241m=\u001b[39m \u001b[38;5;241m10\u001b[39m\n\u001b[0;32m      3\u001b[0m Time \u001b[38;5;241m=\u001b[39m \u001b[38;5;241m0\u001b[39m\n\u001b[1;32m----> 4\u001b[0m \u001b[38;5;28mprint\u001b[39m(Run \u001b[38;5;241m/\u001b[39m Time)\n",
      "\u001b[1;31mZeroDivisionError\u001b[0m: division by zero"
     ]
    }
   ],
   "source": [
    "# RuntimeError\n",
    "Run = 10\n",
    "Time = 0\n",
    "print(Run / Time)"
   ]
  },
  {
   "cell_type": "code",
   "execution_count": 42,
   "id": "e9627fd7-7c92-4ec1-9481-df9bfc8ab8e6",
   "metadata": {},
   "outputs": [
    {
     "name": "stdout",
     "output_type": "stream",
     "text": [
      "15\n"
     ]
    }
   ],
   "source": [
    "# SemanticError\n",
    "Semantic = 5\n",
    "Error = 3\n",
    "result = Semantic * Error\n",
    "print(result)"
   ]
  },
  {
   "cell_type": "code",
   "execution_count": null,
   "id": "6afc3bf2-8318-47b7-9a67-80c1916cd762",
   "metadata": {},
   "outputs": [],
   "source": []
  }
 ],
 "metadata": {
  "kernelspec": {
   "display_name": "Python 3 (ipykernel)",
   "language": "python",
   "name": "python3"
  },
  "language_info": {
   "codemirror_mode": {
    "name": "ipython",
    "version": 3
   },
   "file_extension": ".py",
   "mimetype": "text/x-python",
   "name": "python",
   "nbconvert_exporter": "python",
   "pygments_lexer": "ipython3",
   "version": "3.12.4"
  }
 },
 "nbformat": 4,
 "nbformat_minor": 5
}

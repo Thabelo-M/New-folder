{
 "cells": [
  {
   "cell_type": "markdown",
   "id": "f4ddcddc-f019-4046-aa5f-16791efc6c65",
   "metadata": {},
   "source": [
    "Create a variable x with the value 10. "
   ]
  },
  {
   "cell_type": "code",
   "execution_count": 3,
   "id": "99109927-3d4a-40ec-8a6f-b30f18dde91b",
   "metadata": {},
   "outputs": [
    {
     "name": "stdout",
     "output_type": "stream",
     "text": [
      "12\n",
      "4.0\n",
      "0.0\n"
     ]
    }
   ],
   "source": [
    "# Initial variable assignment\n",
    "x = 10\n",
    "\n",
    "# x increments by 2 (increasing by 2)\n",
    "x += 2 \n",
    "print(x)\n",
    "# x divided by 3\n",
    "x /= 3  \n",
    "print(x) \n",
    "\n",
    "# x modulus 4 (returns the remainder)\n",
    "x %= 4  \n",
    "print(x)"
   ]
  },
  {
   "cell_type": "markdown",
   "id": "092cc7ee-0283-475d-b0fc-94901aa8b204",
   "metadata": {},
   "source": [
    "Testing modulus"
   ]
  },
  {
   "cell_type": "code",
   "execution_count": 9,
   "id": "77f16def-30e6-4fab-b47a-58ef22176f75",
   "metadata": {},
   "outputs": [
    {
     "name": "stdout",
     "output_type": "stream",
     "text": [
      "15\n",
      "7.5\n",
      "3.5\n"
     ]
    }
   ],
   "source": [
    "# Initial variable assignment\n",
    "y = 12\n",
    "\n",
    "# y increments by 2 (increasing by 2)\n",
    "y += 3 \n",
    "print(y)\n",
    "# y divided by 3\n",
    "y /= 2  \n",
    "print(y) \n",
    "\n",
    "# y modulus 4 (returns the remainder)\n",
    "y %= 4  \n",
    "print(y)"
   ]
  },
  {
   "cell_type": "code",
   "execution_count": null,
   "id": "31e299cb-0609-47de-8c9d-9a8ae857f71f",
   "metadata": {},
   "outputs": [],
   "source": []
  }
 ],
 "metadata": {
  "kernelspec": {
   "display_name": "Python 3 (ipykernel)",
   "language": "python",
   "name": "python3"
  },
  "language_info": {
   "codemirror_mode": {
    "name": "ipython",
    "version": 3
   },
   "file_extension": ".py",
   "mimetype": "text/x-python",
   "name": "python",
   "nbconvert_exporter": "python",
   "pygments_lexer": "ipython3",
   "version": "3.12.4"
  }
 },
 "nbformat": 4,
 "nbformat_minor": 5
}

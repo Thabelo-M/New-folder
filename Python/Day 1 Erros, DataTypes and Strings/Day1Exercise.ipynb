{
 "cells": [
  {
   "cell_type": "markdown",
   "id": "91417e9f-e804-4dc7-880c-bb3d76f66719",
   "metadata": {},
   "source": [
    "Different numerical data types and find out their type with the type() function."
   ]
  },
  {
   "cell_type": "code",
   "execution_count": 6,
   "id": "1d37fee7-7c79-4db9-b132-15c5d0f1e0cb",
   "metadata": {},
   "outputs": [
    {
     "name": "stdout",
     "output_type": "stream",
     "text": [
      "<class 'int'>\n",
      "<class 'float'>\n",
      "<class 'complex'>\n"
     ]
    }
   ],
   "source": [
    "# Defining different types of numerical data \n",
    "learn = 10\n",
    "to_use = 10.5\n",
    "jupyter = 3 + 5j\n",
    "\n",
    "# Find out their types\n",
    "print(type(learn))   \n",
    "print(type(to_use))   \n",
    "print(type(jupyter))"
   ]
  },
  {
   "cell_type": "markdown",
   "id": "ab0da6fd-c0d9-40cf-8712-48ac133420df",
   "metadata": {},
   "source": [
    "Dividing two integers"
   ]
  },
  {
   "cell_type": "code",
   "execution_count": 12,
   "id": "4da11294-7b64-4c54-997b-c527eeeee0e2",
   "metadata": {},
   "outputs": [
    {
     "name": "stdout",
     "output_type": "stream",
     "text": [
      "3.0\n",
      "<class 'float'>\n"
     ]
    }
   ],
   "source": [
    "# Dividing two integers\n",
    "result = 6 / 2\n",
    "\n",
    "# Find the result and its type\n",
    "print(result)    \n",
    "print(type(result))"
   ]
  },
  {
   "cell_type": "code",
   "execution_count": null,
   "id": "e6964acc-209c-4417-9efd-46d24a5f3160",
   "metadata": {},
   "outputs": [],
   "source": []
  }
 ],
 "metadata": {
  "kernelspec": {
   "display_name": "Python 3 (ipykernel)",
   "language": "python",
   "name": "python3"
  },
  "language_info": {
   "codemirror_mode": {
    "name": "ipython",
    "version": 3
   },
   "file_extension": ".py",
   "mimetype": "text/x-python",
   "name": "python",
   "nbconvert_exporter": "python",
   "pygments_lexer": "ipython3",
   "version": "3.12.4"
  }
 },
 "nbformat": 4,
 "nbformat_minor": 5
}

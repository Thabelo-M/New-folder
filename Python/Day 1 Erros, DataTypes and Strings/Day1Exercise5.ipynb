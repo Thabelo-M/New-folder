{
 "cells": [
  {
   "cell_type": "markdown",
   "id": "fa89cf7d-0eb4-4721-aac4-eb61b7375233",
   "metadata": {},
   "source": [
    "Which of the following are Boolean expressions?"
   ]
  },
  {
   "cell_type": "code",
   "execution_count": 4,
   "id": "9ecb6464-b5a5-4e14-a848-73bc2ed4d6e9",
   "metadata": {},
   "outputs": [
    {
     "name": "stdout",
     "output_type": "stream",
     "text": [
      "True\n",
      "False\n",
      "7\n",
      "True\n",
      "False\n"
     ]
    }
   ],
   "source": [
    "# Evaluating Boolean expressions\n",
    "print(True)               \n",
    "print(3 == 4)             \n",
    "print(3 + 4)             \n",
    "print(3 + 4 == 7)        \n",
    "print(\"False\")   "
   ]
  },
  {
   "cell_type": "markdown",
   "id": "bf7f1ae1-4a60-4468-8d58-831308f234b2",
   "metadata": {},
   "source": [
    "What happens when you evaluate the following?"
   ]
  },
  {
   "cell_type": "code",
   "execution_count": 8,
   "id": "7afae04c-fa17-4fc9-8ccb-90826e92df09",
   "metadata": {},
   "outputs": [
    {
     "name": "stdout",
     "output_type": "stream",
     "text": [
      "False\n",
      "True\n",
      "False\n",
      "True\n",
      "True\n",
      "False\n"
     ]
    }
   ],
   "source": [
    "# Evaluating the statements\n",
    "print(0 == True)         \n",
    "print(0 == 0.0)           \n",
    "print(bool(\"\"))        \n",
    "print(bool(\"\") == False) \n",
    "print(bool(34343) == True)\n",
    "print(bool(12) == bool(0.0000)) "
   ]
  },
  {
   "cell_type": "code",
   "execution_count": 13,
   "id": "3f74d406-e83d-4bce-8f37-aadd46561eae",
   "metadata": {},
   "outputs": [
    {
     "name": "stdout",
     "output_type": "stream",
     "text": [
      "True\n"
     ]
    }
   ],
   "source": [
    "print(bool(34343))"
   ]
  },
  {
   "cell_type": "code",
   "execution_count": 15,
   "id": "b69a92e9-ced7-4464-bc2a-257867e0fcc3",
   "metadata": {},
   "outputs": [
    {
     "name": "stdout",
     "output_type": "stream",
     "text": [
      "False\n"
     ]
    }
   ],
   "source": [
    "print(0 == 0.1)"
   ]
  }
 ],
 "metadata": {
  "kernelspec": {
   "display_name": "Python 3 (ipykernel)",
   "language": "python",
   "name": "python3"
  },
  "language_info": {
   "codemirror_mode": {
    "name": "ipython",
    "version": 3
   },
   "file_extension": ".py",
   "mimetype": "text/x-python",
   "name": "python",
   "nbconvert_exporter": "python",
   "pygments_lexer": "ipython3",
   "version": "3.12.4"
  }
 },
 "nbformat": 4,
 "nbformat_minor": 5
}

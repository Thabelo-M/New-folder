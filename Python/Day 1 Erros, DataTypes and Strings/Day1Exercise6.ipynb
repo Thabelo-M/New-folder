{
 "cells": [
  {
   "cell_type": "code",
   "execution_count": null,
   "id": "1f4e2b6d-cf0f-40bb-8b8b-96b56cd5ae19",
   "metadata": {},
   "outputs": [],
   "source": [
    "Try running the following code"
   ]
  },
  {
   "cell_type": "code",
   "execution_count": 3,
   "id": "628f6abb-c96c-413b-a3f4-7a57446ace34",
   "metadata": {},
   "outputs": [
    {
     "name": "stdout",
     "output_type": "stream",
     "text": [
      "False\n",
      "True\n",
      "True\n"
     ]
    }
   ],
   "source": [
    "print(5 == 10)           \n",
    "print(10 > 5)           \n",
    "print((5 >= 1) and (5 <= 10)) \n"
   ]
  },
  {
   "cell_type": "markdown",
   "id": "28538113-4f2b-4944-aebf-9c1d02c309e3",
   "metadata": {},
   "source": [
    "Create a variable n and assign it a value"
   ]
  },
  {
   "cell_type": "code",
   "execution_count": null,
   "id": "16dc0f6a-5e81-4f7d-b782-90b60312db1b",
   "metadata": {},
   "outputs": [],
   "source": []
  }
 ],
 "metadata": {
  "kernelspec": {
   "display_name": "Python 3 (ipykernel)",
   "language": "python",
   "name": "python3"
  },
  "language_info": {
   "codemirror_mode": {
    "name": "ipython",
    "version": 3
   },
   "file_extension": ".py",
   "mimetype": "text/x-python",
   "name": "python",
   "nbconvert_exporter": "python",
   "pygments_lexer": "ipython3",
   "version": "3.12.4"
  }
 },
 "nbformat": 4,
 "nbformat_minor": 5
}

{
 "cells": [
  {
   "cell_type": "markdown",
   "id": "dbef38f8-a4d3-43d3-855b-36fd320fd9dd",
   "metadata": {},
   "source": [
    "Make a list using the range() function"
   ]
  },
  {
   "cell_type": "code",
   "execution_count": 40,
   "id": "f07fd468-9c32-4b9f-9555-c0fd9f43e240",
   "metadata": {},
   "outputs": [
    {
     "name": "stdout",
     "output_type": "stream",
     "text": [
      "[1, 5, 9, 13, 17, 21, 25, 29, 33, 37, 41, 45, 49]\n",
      "[10, 9, 8, 7, 6, 5, 4, 3, 2, 1, 0]\n",
      "[2]\n",
      "[2, 5]\n",
      "[2, 5, 8]\n",
      "[8, 5, 2]\n",
      "The correct sequence is 2,10,3: [2, 5, 8]\n",
      "[20, 15, 10, 5]\n"
     ]
    }
   ],
   "source": [
    "#  From 1 to 50 every 4 numbers.\n",
    "num = list(range(1,50,4))\n",
    "print(num)\n",
    "# From 10 until 0 in descending order.\n",
    "desc = list(range(10, -1, -1)) #-1, to stop the value #-1 to decrease/subtract\n",
    "print(desc)\n",
    "# What command correctly generates the sequence 2, 5, 8?\n",
    "seq1 = list(range(2, 5, 8))\n",
    "print(seq1)\n",
    "seq2 = list(range(2, 8, 3))\n",
    "print(seq2)\n",
    "seq3 = list(range(2, 10, 3))\n",
    "print(seq3)\n",
    "seq4 = list(range(8, 1, -3))\n",
    "print(seq4)\n",
    "print(f\"The correct sequence is 2,10,3:\", seq3) \n",
    "# Produce the Sequence 20, 15, 10, 5\n",
    "seq5 = list(range(20, 0, -5))\n",
    "print(seq5)"
   ]
  },
  {
   "cell_type": "code",
   "execution_count": 44,
   "id": "866abccb-a6f7-460c-ab0a-c9512848fc50",
   "metadata": {},
   "outputs": [
    {
     "name": "stdout",
     "output_type": "stream",
     "text": [
      "-5\n",
      "-4\n",
      "-3\n",
      "-2\n",
      "-1\n",
      "0\n",
      "1\n",
      "2\n",
      "3\n",
      "4\n",
      "5\n"
     ]
    }
   ],
   "source": [
    "# For-loop that prints between -5 and 5, (5 included)\n",
    "for five in range(-5, 6): \n",
    "    print(five)"
   ]
  },
  {
   "cell_type": "markdown",
   "id": "ad9a9cde-c5d5-4804-82fb-8f2bc7e8cd90",
   "metadata": {},
   "source": [
    "Assume you have a list of numbers nums = [12, 10, 32, 3, 66, 17, 42, 99, 20]"
   ]
  },
  {
   "cell_type": "code",
   "execution_count": 62,
   "id": "b8ee252a-0857-4af2-bd4b-843ecc4e703d",
   "metadata": {},
   "outputs": [
    {
     "name": "stdout",
     "output_type": "stream",
     "text": [
      "12\n",
      "10\n",
      "32\n",
      "3\n",
      "66\n",
      "17\n",
      "42\n",
      "99\n",
      "20\n",
      "The square of 12 is 144\n",
      "The square of 10 is 100\n",
      "The square of 32 is 1024\n",
      "The square of 3 is 9\n",
      "The square of 66 is 4356\n",
      "The square of 17 is 289\n",
      "The square of 42 is 1764\n",
      "The square of 99 is 9801\n",
      "The square of 20 is 400\n"
     ]
    }
   ],
   "source": [
    "# Write a for loop that prints each of the numbers in a new line\n",
    "nums = [12, 10, 32, 3, 66, 17, 42, 99, 20]\n",
    "for num in nums:\n",
    "    print(num)\n",
    "# Write a for loop that prints each number and its square in a new line.\n",
    "# For reference: https://stackoverflow.com/questions/40441725/python-for-loop-that-prints-each-number-and-its-square-on-a-separate-line\n",
    "for num in nums:\n",
    "    square = num * num \n",
    "    print(\"The square of\", num, \"is\", square)"
   ]
  },
  {
   "cell_type": "markdown",
   "id": "93fb416e-5688-4a96-97fa-70f7eb4ce11e",
   "metadata": {},
   "source": [
    "Using two for loops on range() functions"
   ]
  },
  {
   "cell_type": "code",
   "execution_count": 80,
   "id": "5d3232b2-93d0-43c3-b787-99b167fb3d9e",
   "metadata": {},
   "outputs": [
    {
     "name": "stdout",
     "output_type": "stream",
     "text": [
      "*\n",
      "**\n",
      "***\n",
      "****\n",
      "*****\n",
      "******\n",
      "*******\n",
      "********\n",
      "*********\n",
      "**********\n",
      "*********\n",
      "********\n",
      "*******\n",
      "******\n",
      "*****\n",
      "****\n",
      "***\n",
      "**\n",
      "*\n"
     ]
    }
   ],
   "source": [
    "# Pattern (Adding up)\n",
    "for star in range(1, 11):  \n",
    "    print('*' * star)  \n",
    "# Pattern (Decreasing)\n",
    "for star in range(9, 0, -1):  \n",
    "    print('*' * star)"
   ]
  }
 ],
 "metadata": {
  "kernelspec": {
   "display_name": "Python 3 (ipykernel)",
   "language": "python",
   "name": "python3"
  },
  "language_info": {
   "codemirror_mode": {
    "name": "ipython",
    "version": 3
   },
   "file_extension": ".py",
   "mimetype": "text/x-python",
   "name": "python",
   "nbconvert_exporter": "python",
   "pygments_lexer": "ipython3",
   "version": "3.12.4"
  }
 },
 "nbformat": 4,
 "nbformat_minor": 5
}

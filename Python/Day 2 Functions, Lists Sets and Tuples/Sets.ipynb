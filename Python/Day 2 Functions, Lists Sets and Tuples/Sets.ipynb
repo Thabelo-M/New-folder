{
 "cells": [
  {
   "cell_type": "markdown",
   "id": "545c357f-8f48-465f-a1d3-e7f4e86f27df",
   "metadata": {},
   "source": [
    "1. Given the set instruments = {\"piano\", \"flute\", \"drums\"}, add the elements \"guitar\" and \"violin\""
   ]
  },
  {
   "cell_type": "code",
   "execution_count": 28,
   "id": "08967d2d-00d5-49ef-84cc-30192a85cd97",
   "metadata": {},
   "outputs": [
    {
     "name": "stdout",
     "output_type": "stream",
     "text": [
      "{'violin', 'flute', 'piano'}\n",
      "True\n",
      "3\n",
      "0\n",
      "55\n"
     ]
    }
   ],
   "source": [
    "# Given set\n",
    "instruments = {\"piano\", \"flute\", \"drums\"}\n",
    "\n",
    "# Add \"guitar\" and \"violin\"\n",
    "instruments.add(\"guitar\")\n",
    "instruments.add(\"violin\")\n",
    "# Remove Drums & Guitar\n",
    "instruments.remove(\"drums\")\n",
    "instruments.remove(\"guitar\")\n",
    "#Remove Guitar again\n",
    "instruments.discard(\"guitar\") \n",
    "# Check the subset\n",
    "subset = {\"violin\", \"piano\"}.issubset(instruments)\n",
    "#The length\n",
    "length = len(instruments)\n",
    "print(instruments) \n",
    "print(subset)\n",
    "print(length)\n",
    "\n",
    "#Find the MAX and MIN\n",
    "fibo = {1, 21, 2, 0, 8, 55, 34, 5, 3, 13}\n",
    "Minimum = min(fibo)\n",
    "Maximum = max(fibo)\n",
    "print(Minimum)\n",
    "print(Maximum)"
   ]
  },
  {
   "cell_type": "markdown",
   "id": "f349cd2a-ee08-434d-b32a-82b4bda122c5",
   "metadata": {},
   "source": [
    "2. Given the sets orchestra and band."
   ]
  },
  {
   "cell_type": "code",
   "execution_count": 66,
   "id": "bf2bc910-fd0d-424c-b2a8-4445e34e3ab5",
   "metadata": {},
   "outputs": [
    {
     "name": "stdout",
     "output_type": "stream",
     "text": [
      "{'French horn', 'trombone', 'keyboard', 'euphonium', 'bassoon', 'piccolo', 'viola', 'clarinet', 'violin', 'percussion', 'kettle-drum', 'saxophone', 'oboe', 'flute', 'cello', 'double bass', 'harp', 'tuba', 'flugelhorn', 'trumpet', 'cornet'}\n",
      "{'French horn', 'trombone', 'keyboard', 'euphonium', 'bassoon', 'piccolo', 'viola', 'clarinet', 'violin', 'percussion', 'kettle-drum', 'saxophone', 'oboe', 'flute', 'cello', 'double bass', 'harp', 'tuba', 'flugelhorn', 'trumpet', 'cornet'}\n",
      "{'oboe', 'flute', 'French horn', 'trombone', 'bassoon', 'piccolo', 'tuba', 'clarinet', 'percussion', 'trumpet'}\n",
      "{'oboe', 'flute', 'French horn', 'trombone', 'bassoon', 'piccolo', 'tuba', 'clarinet', 'percussion', 'trumpet'}\n",
      "{'cello', 'keyboard', 'double bass', 'harp', 'viola', 'violin', 'kettle-drum'}\n",
      "{'cello', 'keyboard', 'double bass', 'harp', 'viola', 'violin', 'kettle-drum'}\n",
      "{'cello', 'euphonium', 'keyboard', 'saxophone', 'harp', 'double bass', 'kettle-drum', 'viola', 'flugelhorn', 'violin', 'cornet'}\n",
      "{'cello', 'euphonium', 'keyboard', 'saxophone', 'harp', 'double bass', 'kettle-drum', 'viola', 'flugelhorn', 'violin', 'cornet'}\n",
      "{'keyboard', 'viola', 'violin', 'kettle-drum', 'cello', 'double bass', 'harp'}\n"
     ]
    }
   ],
   "source": [
    "#Add the sets\n",
    "orchestra = {\"violin\", \"viola\", \"cello\", \"double bass\", \"flute\", \"oboe\", \"clarinet\", \"bassoon\", \n",
    "             \"French horn\", \"kettle-drum\", \"piccolo\", \"clarinet\", \"trumpet\", \"trombone\", \n",
    "             \"tuba\", \"harp\", \"keyboard\", \"percussion\"}\n",
    "\n",
    "band = {\"flute\", \"clarinet\", \"saxophone\", \"trumpet\", \"trombone\", \"percussion\", \"French horn\", \n",
    "        \"piccolo\", \"oboe\", \"bassoon\", \"cornet\", \"flugelhorn\", \"euphonium\", \"tuba\"}\n",
    "#Find the union of orchestra and band (2 ways)\n",
    "UnionSet1 = orchestra | band\n",
    "UnionSet2 = orchestra.union(band)\n",
    "print(UnionSet1)\n",
    "print(UnionSet2)\n",
    "#Find the intersection of orchestra and band (2 ways)\n",
    "Intersect = orchestra.intersection(band)\n",
    "print(Intersect)\n",
    "Section = orchestra & band\n",
    "print(Section)\n",
    "#Find the difference of orquestra from band (2 ways)\n",
    "Diff = orchestra.difference(band)\n",
    "print(Diff)\n",
    "Differ = orchestra - band\n",
    "print(Differ)\n",
    "#Find the symmetric difference of orchestra and band (2 ways)\n",
    "Sym = orchestra.symmetric_difference(band)\n",
    "print(Sym)\n",
    "symmetric = orchestra ^ band\n",
    "print(symmetric)\n",
    "#Which of the methods above would you use to find the elements in orchestra that are not in band? = difference method or the - operator. \n",
    "#Remove the intersection between orchestra and band from orchestra.\n",
    "orchestra.difference_update(band)\n",
    "print(orchestra)"
   ]
  },
  {
   "cell_type": "markdown",
   "id": "27d4da0e-f8d5-43fa-b300-bc01795cf88b",
   "metadata": {},
   "source": [
    "3. Given the set aset = {1, 2, 3, 4}"
   ]
  },
  {
   "cell_type": "code",
   "execution_count": 102,
   "id": "f9acbac9-e54c-4e59-bf2b-62bd8c3e6731",
   "metadata": {},
   "outputs": [
    {
     "name": "stdout",
     "output_type": "stream",
     "text": [
      "set()\n",
      "{'red', 'yellow', 'blue'}\n",
      "{'red', 'yellow', 'blue'}\n",
      "{'yellow', 'blue'}\n",
      "set()\n"
     ]
    }
   ],
   "source": [
    "#Define variables\n",
    "aset = {1, 2, 3, 4}\n",
    "#Which of the following:\n",
    "aset.union([4, 5, 6])\n",
    "aset | set([4, 5, 6])\n",
    "aset.union(set([4, 5, 6]))\n",
    "aset.union({4, 5, 6})\n",
    "#aset | [4, 5, 6] #TypeError: unsupported operand type(s) for |: 'set' and 'list'\n",
    "#Define\n",
    "name = {\"j\", \"o\", \"h\", \"n\"}\n",
    "surname = set(\"large\")\n",
    "intersection_set = name & surname\n",
    "print(intersection_set)\n",
    "#What is the result of:\n",
    "{10, 20, 30, 40, 50} - {30, 40} ^ {50, 60, 70}\n",
    "#Given the set colors\n",
    "colours1 = {\"red\", \"blue\", \"yellow\", \"black\"}\n",
    "colours1.remove(\"black\")\n",
    "print(colours1) \n",
    "\n",
    "colours1.discard(\"black\")\n",
    "print(colours1)\n",
    "\n",
    "colours1.pop() \n",
    "print(colours1)\n",
    "\n",
    "colours1.clear()\n",
    "print(colours1)"
   ]
  },
  {
   "cell_type": "code",
   "execution_count": null,
   "id": "76e07752-2fa7-4cd1-bd16-0686beecdc92",
   "metadata": {},
   "outputs": [],
   "source": []
  }
 ],
 "metadata": {
  "kernelspec": {
   "display_name": "Python 3 (ipykernel)",
   "language": "python",
   "name": "python3"
  },
  "language_info": {
   "codemirror_mode": {
    "name": "ipython",
    "version": 3
   },
   "file_extension": ".py",
   "mimetype": "text/x-python",
   "name": "python",
   "nbconvert_exporter": "python",
   "pygments_lexer": "ipython3",
   "version": "3.12.4"
  }
 },
 "nbformat": 4,
 "nbformat_minor": 5
}

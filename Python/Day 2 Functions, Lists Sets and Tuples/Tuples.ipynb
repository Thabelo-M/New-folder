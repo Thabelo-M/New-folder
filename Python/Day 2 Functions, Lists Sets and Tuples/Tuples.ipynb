{
 "cells": [
  {
   "cell_type": "markdown",
   "id": "a4839992-6d00-4c32-bae8-442e1beeb394",
   "metadata": {},
   "source": [
    "1. Create a Tuple with a nested list."
   ]
  },
  {
   "cell_type": "code",
   "execution_count": 4,
   "id": "18cee62d-523f-4995-a0fc-26570e70aaec",
   "metadata": {},
   "outputs": [
    {
     "name": "stdout",
     "output_type": "stream",
     "text": [
      "Packed Tuple: ([1, 2, 3], (4, 5, 6))\n",
      "Nested List: [1, 2, 3]\n",
      "Nested Tuple: (4, 5, 6)\n"
     ]
    }
   ],
   "source": [
    "# Creating a tuple with a nested list and a nested tuple\n",
    "PT = ([1, 2, 3], (4, 5, 6))\n",
    "\n",
    "print(\"Packed Tuple:\", PT)\n",
    "\n",
    "NL, NT = PT\n",
    "\n",
    "print(\"Nested List:\", NL)\n",
    "print(\"Nested Tuple:\", NT)"
   ]
  },
  {
   "cell_type": "markdown",
   "id": "ee21eb40-e5d6-4d45-a11b-2330ce6aad0a",
   "metadata": {},
   "source": [
    "2. Create a tuple containing your personal information."
   ]
  },
  {
   "cell_type": "code",
   "execution_count": 16,
   "id": "e3d8d2d9-e639-4867-bd4f-8965cbdcbb50",
   "metadata": {},
   "outputs": [
    {
     "name": "stdout",
     "output_type": "stream",
     "text": [
      "('Thabelo', 'Muthuvhukuma', 26, 'AWS Facilitator')\n",
      "First Name: Thabelo\n",
      "Surname: Muthuvhukuma\n",
      "Age: 26\n",
      "Job_role: AWS Facilitator\n"
     ]
    }
   ],
   "source": [
    "#Define the information\n",
    "info = (\"Thabelo\", \"Muthuvhukuma\", 26, \"AWS Facilitator\")\n",
    "print (info)\n",
    "#Assign tuple into variables\n",
    "(Name, Surname, Age, Job_role) = info\n",
    "print(\"First Name:\", Name)\n",
    "print(\"Surname:\", Surname)\n",
    "print(\"Age:\", Age)\n",
    "print(\"Job_role:\", Job_role)"
   ]
  },
  {
   "cell_type": "markdown",
   "id": "58982831-a13e-4bb8-80d3-171d9f73dffe",
   "metadata": {},
   "source": [
    "3. Create variables: a, b and c."
   ]
  },
  {
   "cell_type": "code",
   "execution_count": 65,
   "id": "83b3b2df-6c0e-4faa-ae84-2a46f29f53f8",
   "metadata": {},
   "outputs": [
    {
     "name": "stdout",
     "output_type": "stream",
     "text": [
      "True Hello 1\n",
      "Hello 1 True\n"
     ]
    }
   ],
   "source": [
    "#Assign the variables\n",
    "a = 1\n",
    "b = True\n",
    "c = \"Hello\"\n",
    "#a takes the value True, b takes the value \"Hello\" and c takes the value 1.\n",
    "a, b, c = b, c, a\n",
    "print(a,b,c)\n",
    "#a takes the value Hello\", b takes the value 1 and c takes the value True.\n",
    "a, b, c = c, a, b\n",
    "print(c,a,b)"
   ]
  },
  {
   "cell_type": "markdown",
   "id": "c79719ec-346f-493a-8653-e4aafdf0764e",
   "metadata": {},
   "source": [
    "4. Create an empty tuple AND Create a tuple with the name languages"
   ]
  },
  {
   "cell_type": "code",
   "execution_count": 14,
   "id": "14a69c2c-5cd6-4b11-911e-216750218762",
   "metadata": {},
   "outputs": [
    {
     "name": "stdout",
     "output_type": "stream",
     "text": [
      "0\n",
      "('German', 'Spanish', 'Italian', 'Mandarin')\n",
      "German Spanish Italian Mandarin\n",
      "('German', 'Spanish', 'Italian', 'Mandarin')\n",
      "('German', 'Spanish', 'Italian', 'Mandarin')\n"
     ]
    }
   ],
   "source": [
    "#Empty tuple,find it's length\n",
    "Empty = ()\n",
    "print(len(Empty))\n",
    "# Tuple with languages\n",
    "languages = (\"German\", \"English\", \"Spanish\", \"French\", \"Italian\", \"Russian\", \"Mandarin\")\n",
    "\n",
    "# print(languages)\n",
    "print(languages[0::2])\n",
    "print(languages[0],languages[2],languages[4],languages[6])\n",
    "print(languages[::2])\n",
    "print(languages[-7::2])\n",
    "# print(languages[7::2])"
   ]
  },
  {
   "cell_type": "raw",
   "id": "8511f2a6-0e88-4c06-9e46-2fbe1113af19",
   "metadata": {},
   "source": [
    "5. Create a tuple with a nested list and a nested tuple:"
   ]
  },
  {
   "cell_type": "code",
   "execution_count": 106,
   "id": "84f01dcd-594c-47f1-8d8e-ca40e7697e06",
   "metadata": {},
   "outputs": [
    {
     "name": "stdout",
     "output_type": "stream",
     "text": [
      "([1, 2, 3, 4, 5, 6, 7], (1, 2, 3, 4, 5, 6, 7, 9))\n"
     ]
    }
   ],
   "source": [
    "# Define the variables with the nested list & nested tuple\n",
    "Nested = ([1, 2, 3, 4, 5], (1, 2, 3, 4, 5))\n",
    "#Change the values of the nested list\n",
    "Nested[0].extend([6, 7])\n",
    "#Change the values of the nested tuple\n",
    "#Nested[1].extend([6, 7])...Tuples can't be modified directly\n",
    "Nested = (Nested[0], (1, 2, 3, 4, 5, 6, 7,))\n",
    "\n",
    "print(Nested) "
   ]
  },
  {
   "cell_type": "markdown",
   "id": "07652bd0-769d-4834-b6a7-1ced81d91405",
   "metadata": {},
   "source": [
    "6.Create a tuple with a nested list and a nested tuple: ([1, 2, 3, 4, 5], (1, 2, 3, 4, 5))"
   ]
  },
  {
   "cell_type": "code",
   "execution_count": 110,
   "id": "f905daa9-950f-4c16-a3e5-e853f70cc400",
   "metadata": {},
   "outputs": [
    {
     "name": "stdout",
     "output_type": "stream",
     "text": [
      "([2, 3, 5], (1, 3, 4))\n"
     ]
    }
   ],
   "source": [
    "# Defining the tuple with a nested list and a nested tuple\n",
    "Nest = ([1, 2, 3, 4, 5], (1, 2, 3, 4, 5))\n",
    "# Changing the nested list\n",
    "Nest[0].remove(1)\n",
    "Nest[0].remove(4)\n",
    "# Changing the nested tuple (recreate it)\n",
    "Nest = (Nest[0], (1, 3, 4))\n",
    "print(Nest) \n"
   ]
  },
  {
   "cell_type": "markdown",
   "id": "067b13e2-3065-4ffb-a843-b9e216529b9f",
   "metadata": {},
   "source": [
    "7. Create a tuple with the value (“Tro”, “-lo”)."
   ]
  },
  {
   "cell_type": "code",
   "execution_count": 122,
   "id": "26105308-cdeb-4df2-b5cd-c7f3cb412d32",
   "metadata": {},
   "outputs": [
    {
     "name": "stdout",
     "output_type": "stream",
     "text": [
      "Tro-lo-lo-lo-lo-lo-lo-lo-lo-lo\n"
     ]
    }
   ],
   "source": [
    "# Defining the tuple\n",
    "Test = (\"Tro\", \"-lo\")\n",
    "result = Test[0] + Test[1] * 9\n",
    "print(result) "
   ]
  },
  {
   "cell_type": "code",
   "execution_count": null,
   "id": "6c62a8b4-5368-4eba-87b1-c9693bedd484",
   "metadata": {},
   "outputs": [],
   "source": []
  }
 ],
 "metadata": {
  "kernelspec": {
   "display_name": "Python 3 (ipykernel)",
   "language": "python",
   "name": "python3"
  },
  "language_info": {
   "codemirror_mode": {
    "name": "ipython",
    "version": 3
   },
   "file_extension": ".py",
   "mimetype": "text/x-python",
   "name": "python",
   "nbconvert_exporter": "python",
   "pygments_lexer": "ipython3",
   "version": "3.12.4"
  }
 },
 "nbformat": 4,
 "nbformat_minor": 5
}

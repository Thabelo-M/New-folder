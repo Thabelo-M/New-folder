{
 "cells": [
  {
   "cell_type": "markdown",
   "id": "0aff074d-7ca6-4cc8-a007-9855e1441289",
   "metadata": {},
   "source": [
    "1.1 Multiplication Function"
   ]
  },
  {
   "cell_type": "code",
   "execution_count": 49,
   "id": "fe275c43-7bcc-48e3-9e94-12748a7a5746",
   "metadata": {},
   "outputs": [
    {
     "name": "stdout",
     "output_type": "stream",
     "text": [
      "15\n",
      "10.0\n",
      "HelloHello\n",
      "[1, 2, 1, 2, 1, 2]\n"
     ]
    }
   ],
   "source": [
    "# Multiplication function\n",
    "def multiply(a, b):\n",
    "    return a * b\n",
    "    \n",
    "print(multiply(5, 3))         \n",
    "print(multiply(2.5, 4))        \n",
    "print(multiply(2, \"Hello\"))  \n",
    "print(multiply([1, 2], 3))    "
   ]
  },
  {
   "cell_type": "markdown",
   "id": "72cde791-d6ad-4f26-8ff7-7484c6e5bdc4",
   "metadata": {},
   "source": [
    "1.2 Division Function"
   ]
  },
  {
   "cell_type": "code",
   "execution_count": 11,
   "id": "7201de90-b387-4d3b-b93b-8adb1561fabc",
   "metadata": {},
   "outputs": [
    {
     "name": "stdout",
     "output_type": "stream",
     "text": [
      "5.0\n",
      "3.75\n"
     ]
    }
   ],
   "source": [
    "# Division function\n",
    "def divide(a, b):\n",
    "    return a / b\n",
    "\n",
    "print(divide(10, 2))           \n",
    "print(divide(7.5, 2))        \n",
    "#print(divide(10, \"0\")) | #TypeError: unsupported operand type(s) for /: 'int' and 'str'\n",
    "#print(divide([1, 2], 3)) | #TypeError: unsupported operand type(s) for /: 'list' and 'int'"
   ]
  },
  {
   "cell_type": "markdown",
   "id": "9ed529fa-9571-4311-9d63-70f74bec6c16",
   "metadata": {},
   "source": [
    "2. Create a function named constr()  that concatenates two strings"
   ]
  },
  {
   "cell_type": "code",
   "execution_count": 53,
   "id": "7bd40f78-ec2d-4576-b510-3bcebee02c01",
   "metadata": {},
   "outputs": [
    {
     "name": "stdout",
     "output_type": "stream",
     "text": [
      "123\n",
      "Anaconda, Jupyter!\n"
     ]
    }
   ],
   "source": [
    "# Function to concatenate two strings\n",
    "def constr(a, b):\n",
    "    print(123)\n",
    "\n",
    "    return a + b\n",
    "\n",
    "print(constr(\"Anaconda, \", \"Jupyter!\"))"
   ]
  },
  {
   "cell_type": "code",
   "execution_count": 21,
   "id": "c35265d8-579e-4f83-8717-ff386e2905fe",
   "metadata": {},
   "outputs": [
    {
     "name": "stdout",
     "output_type": "stream",
     "text": [
      "8\n",
      "5.6\n"
     ]
    }
   ],
   "source": [
    "# Test the above function with integers\n",
    "print(constr(5, 3)) \n",
    "\n",
    "# Test the above function with floats\n",
    "print(constr(2.4, 3.2)) "
   ]
  }
 ],
 "metadata": {
  "kernelspec": {
   "display_name": "Python 3 (ipykernel)",
   "language": "python",
   "name": "python3"
  },
  "language_info": {
   "codemirror_mode": {
    "name": "ipython",
    "version": 3
   },
   "file_extension": ".py",
   "mimetype": "text/x-python",
   "name": "python",
   "nbconvert_exporter": "python",
   "pygments_lexer": "ipython3",
   "version": "3.12.4"
  }
 },
 "nbformat": 4,
 "nbformat_minor": 5
}

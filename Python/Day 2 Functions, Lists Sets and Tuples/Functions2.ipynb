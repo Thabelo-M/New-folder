{
 "cells": [
  {
   "cell_type": "markdown",
   "id": "44a6e039-b8bd-4b4a-9843-875b3f2f1137",
   "metadata": {},
   "source": [
    "3. Calculate the Maximum and Minimum Number."
   ]
  },
  {
   "cell_type": "code",
   "execution_count": 10,
   "id": "ec33656e-23e5-4ca0-90ef-a2d54a0681ae",
   "metadata": {},
   "outputs": [
    {
     "data": {
      "text/plain": [
       "(1000, -1000)"
      ]
     },
     "execution_count": 10,
     "metadata": {},
     "output_type": "execute_result"
    }
   ],
   "source": [
    "# List of numbers\n",
    "num = [-10, 10, -100, 100, -1000, 1000, -1, 1]\n",
    "\n",
    "# Calculate maximum and minimum\n",
    "max_num = max(num)\n",
    "min_num = min(num)\n",
    "\n",
    "max_num, min_num"
   ]
  },
  {
   "cell_type": "markdown",
   "id": "1333b47d-7964-4967-89de-dbf7c0b83c71",
   "metadata": {},
   "source": [
    " Calculate the absolute value of 1"
   ]
  },
  {
   "cell_type": "code",
   "execution_count": 18,
   "id": "25dd5fb3-2018-4d8f-9896-9cf332c7fa71",
   "metadata": {},
   "outputs": [
    {
     "data": {
      "text/plain": [
       "1"
      ]
     },
     "execution_count": 18,
     "metadata": {},
     "output_type": "execute_result"
    }
   ],
   "source": [
    "#abs calculates the positive value\n",
    "# Calculate absolute value\n",
    "absolute_value = abs(1)\n",
    "\n",
    "absolute_value"
   ]
  },
  {
   "cell_type": "markdown",
   "id": "0155af43-b10e-4a97-98f1-1ca365657c46",
   "metadata": {},
   "source": [
    "Results of all([0, True]) and all([1, True])"
   ]
  },
  {
   "cell_type": "code",
   "execution_count": 24,
   "id": "d140cd83-a364-49e7-9680-943975d3b1bc",
   "metadata": {},
   "outputs": [
    {
     "data": {
      "text/plain": [
       "(False, True)"
      ]
     },
     "execution_count": 24,
     "metadata": {},
     "output_type": "execute_result"
    }
   ],
   "source": [
    "result1 = all([0, True])\n",
    "result2 = all([1, True]) \n",
    "\n",
    "result1, result2 "
   ]
  },
  {
   "cell_type": "markdown",
   "id": "f84eabad-514a-48b9-a6fb-a1627ced5ef4",
   "metadata": {},
   "source": [
    " Round 1.56532  to the second decimal point"
   ]
  },
  {
   "cell_type": "code",
   "execution_count": 28,
   "id": "a2cc791f-e71a-4946-b38b-0233f94e8f57",
   "metadata": {},
   "outputs": [
    {
     "data": {
      "text/plain": [
       "1.57"
      ]
     },
     "execution_count": 28,
     "metadata": {},
     "output_type": "execute_result"
    }
   ],
   "source": [
    "# Round functions\n",
    "rounded_value = round(1.56532, 2)\n",
    "\n",
    "rounded_value "
   ]
  },
  {
   "cell_type": "markdown",
   "id": "495845ca-f1b5-429a-b349-4e798797045e",
   "metadata": {},
   "source": [
    "Testing 3rd decimal"
   ]
  },
  {
   "cell_type": "code",
   "execution_count": 32,
   "id": "c9d08f81-4b71-4935-ad57-2c09083f8efd",
   "metadata": {},
   "outputs": [
    {
     "data": {
      "text/plain": [
       "1.565"
      ]
     },
     "execution_count": 32,
     "metadata": {},
     "output_type": "execute_result"
    }
   ],
   "source": [
    "# Round functions\n",
    "rounded_value = round(1.56532, 3)\n",
    "\n",
    "rounded_value "
   ]
  },
  {
   "cell_type": "code",
   "execution_count": null,
   "id": "4c9f28e2-8f6f-49fb-9abf-4048836b2c0b",
   "metadata": {},
   "outputs": [],
   "source": []
  }
 ],
 "metadata": {
  "kernelspec": {
   "display_name": "Python 3 (ipykernel)",
   "language": "python",
   "name": "python3"
  },
  "language_info": {
   "codemirror_mode": {
    "name": "ipython",
    "version": 3
   },
   "file_extension": ".py",
   "mimetype": "text/x-python",
   "name": "python",
   "nbconvert_exporter": "python",
   "pygments_lexer": "ipython3",
   "version": "3.12.4"
  }
 },
 "nbformat": 4,
 "nbformat_minor": 5
}

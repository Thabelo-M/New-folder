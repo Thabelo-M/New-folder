{
 "cells": [
  {
   "cell_type": "markdown",
   "id": "a7254605-2447-4a66-bc04-a14640b05e8e",
   "metadata": {},
   "source": [
    "1. create and then print a list containing a float value"
   ]
  },
  {
   "cell_type": "code",
   "execution_count": 8,
   "id": "fd2cda89-c4e0-457f-bbd3-808237511e0b",
   "metadata": {},
   "outputs": [
    {
     "name": "stdout",
     "output_type": "stream",
     "text": [
      "[1.44, [2, 5], 'Jupyter']\n"
     ]
    }
   ],
   "source": [
    "# Creating the list\n",
    "list = [1.44, [2 , 5], \"Jupyter\"]\n",
    "\n",
    "print(list)"
   ]
  },
  {
   "cell_type": "markdown",
   "id": "1aeb8d13-65dd-44aa-b494-0974262ca7a1",
   "metadata": {},
   "source": [
    "2. Try to access the letter \"g\" in \"dog\" from alist."
   ]
  },
  {
   "cell_type": "code",
   "execution_count": 18,
   "id": "bac5aed1-b044-4f08-a527-877d6bd1af72",
   "metadata": {},
   "outputs": [
    {
     "name": "stdout",
     "output_type": "stream",
     "text": [
      "g\n"
     ]
    }
   ],
   "source": [
    "#creating the alist list\n",
    "alist = [3, 67, \"cat\", [56, 57, \"dog\"], [], 3.14, False]\n",
    "letter_g = alist[3][2][2] \n",
    "\n",
    "print(letter_g)"
   ]
  },
  {
   "cell_type": "markdown",
   "id": "64589d34-965b-4aed-848c-9463def34d50",
   "metadata": {},
   "source": [
    "2.1 guess it before running the code."
   ]
  },
  {
   "cell_type": "code",
   "execution_count": 26,
   "id": "9631d793-de2d-4dd5-89ff-d7e04b058d35",
   "metadata": {},
   "outputs": [
    {
     "name": "stdout",
     "output_type": "stream",
     "text": [
      "4444\n",
      "56\n",
      "5\n",
      "11\n"
     ]
    }
   ],
   "source": [
    "numbers = [77, 56, 4444, 34, 6, 2, 5, 11]\n",
    "print(numbers[2])  \n",
    "print(numbers[9-8]) \n",
    "print(numbers[-2])       \n",
    "print(numbers[len(numbers) - 1])"
   ]
  },
  {
   "cell_type": "markdown",
   "id": "72cb421a-7f9c-4a55-b2dc-4c07280c3d57",
   "metadata": {},
   "source": [
    "2.2 What about this one?"
   ]
  },
  {
   "cell_type": "code",
   "execution_count": 30,
   "id": "fd89147f-eb93-47fa-bd8d-fcc35cbf7c40",
   "metadata": {},
   "outputs": [
    {
     "name": "stdout",
     "output_type": "stream",
     "text": [
      "CAT\n"
     ]
    }
   ],
   "source": [
    "alist = [3, 67, \"cat\", [56, 57, \"dog\"], [], 3.14, False]\n",
    "print(alist[2].upper())  # upper converts to uppercase"
   ]
  },
  {
   "cell_type": "markdown",
   "id": "a832f318-b784-40d6-a0f7-7d629b6d6eb9",
   "metadata": {},
   "source": [
    "3. 5 different ways from the list fruits"
   ]
  },
  {
   "cell_type": "code",
   "execution_count": 100,
   "id": "e5c5796a-c977-4ac6-bfd3-4dbb3754638a",
   "metadata": {},
   "outputs": [
    {
     "name": "stdout",
     "output_type": "stream",
     "text": [
      "['kiwis', 'avocados', 'watermelons', 'melons', 'strawberries', 'bananas', 'apples', 'oranges']\n",
      "['kiwis', 'avocados', 'watermelons', 'melons', 'strawberries', 'bananas', 'apples', 'oranges']\n",
      "['kiwis', 'avocados', 'watermelons', 'melons', 'strawberries', 'bananas', 'apples', 'oranges']\n"
     ]
    }
   ],
   "source": [
    "fruits = [\"kiwis\", \"avocados\", \"watermelons\", \"melons\", \"strawberries\", \"bananas\", \"apples\", \"oranges\"]\n",
    "#Slicing method\n",
    "slice = fruits[0:8]\n",
    "print(slice)\n",
    "#Copying a list()\n",
    "fruits2= fruits[:]\n",
    "print(fruits2)\n",
    "#Copy()\n",
    "fruits3= fruits.copy()\n",
    "print(fruits3)"
   ]
  },
  {
   "cell_type": "markdown",
   "id": "c9160fdb-2ba1-4c22-8f32-86ea0ff421d6",
   "metadata": {},
   "source": [
    "4. Not in alist"
   ]
  },
  {
   "cell_type": "code",
   "execution_count": 66,
   "id": "0123dc27-8501-4fd4-99c4-dd7dc2f24da3",
   "metadata": {},
   "outputs": [
    {
     "name": "stdout",
     "output_type": "stream",
     "text": [
      "False\n"
     ]
    }
   ],
   "source": [
    "print(\"cat\" not in alist) "
   ]
  },
  {
   "cell_type": "markdown",
   "id": "cdd675bc-2af1-44fb-b125-343a79c0ef27",
   "metadata": {},
   "source": [
    "5. Fruit List"
   ]
  },
  {
   "cell_type": "code",
   "execution_count": 94,
   "id": "92392c90-15a8-4707-990e-a0b999b96b4f",
   "metadata": {},
   "outputs": [
    {
     "name": "stdout",
     "output_type": "stream",
     "text": [
      "['apple', 'cherry', 'apple', 'cherry']\n"
     ]
    }
   ],
   "source": [
    "# Define the fruit list\n",
    "fruit = [\"apple\", \"orange\", \"banana\", \"cherry\"]\n",
    "#First n Last elements and multiply by 2\n",
    "FL = [fruit[0], fruit[3]] * 2\n",
    "\n",
    "print(FL)"
   ]
  },
  {
   "cell_type": "code",
   "execution_count": 96,
   "id": "395ceb24-6956-4ae5-82e5-8a0ed392af89",
   "metadata": {},
   "outputs": [
    {
     "name": "stdout",
     "output_type": "stream",
     "text": [
      "['apple', 'cherry', 'apple', 'cherry']\n"
     ]
    }
   ],
   "source": [
    "fruit = [\"apple\", \"orange\", \"banana\", \"cherry\"]\n",
    "#First n Last elements and multiply by 2\n",
    "FL = [fruit[0], fruit[-1]] * 2\n",
    "\n",
    "print(FL)"
   ]
  },
  {
   "cell_type": "markdown",
   "id": "52ff03c0-91fd-4c03-9751-b8a8055833ff",
   "metadata": {},
   "source": [
    "5.1 Print it as string"
   ]
  },
  {
   "cell_type": "code",
   "execution_count": 90,
   "id": "502c7bb2-e7b5-4576-8002-5f7cb5a6a1e3",
   "metadata": {},
   "outputs": [
    {
     "name": "stdout",
     "output_type": "stream",
     "text": [
      "apple, cherry, apple, cherry\n"
     ]
    }
   ],
   "source": [
    "pstring = f\"{FL[0]}, {FL[1]}, {FL[2]}, {FL[3]}\"\n",
    "print(pstring)"
   ]
  },
  {
   "cell_type": "code",
   "execution_count": null,
   "id": "6a650c90-6717-492c-a3fb-9c96dcf4ffd0",
   "metadata": {},
   "outputs": [],
   "source": [
    "# Step 4: Slice the list to get elements from the second one onward\n",
    "sliced_fruit = fruit[1:]  # This includes the second element\n",
    "print(\"Sliced Fruit List:\", sliced_fruit)  # Output: ['orange', 'banana', 'cherry']"
   ]
  }
 ],
 "metadata": {
  "kernelspec": {
   "display_name": "Python 3 (ipykernel)",
   "language": "python",
   "name": "python3"
  },
  "language_info": {
   "codemirror_mode": {
    "name": "ipython",
    "version": 3
   },
   "file_extension": ".py",
   "mimetype": "text/x-python",
   "name": "python",
   "nbconvert_exporter": "python",
   "pygments_lexer": "ipython3",
   "version": "3.12.4"
  }
 },
 "nbformat": 4,
 "nbformat_minor": 5
}

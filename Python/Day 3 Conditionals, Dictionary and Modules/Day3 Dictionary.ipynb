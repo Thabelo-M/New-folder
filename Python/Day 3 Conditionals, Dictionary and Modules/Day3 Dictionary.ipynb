{
 "cells": [
  {
   "cell_type": "markdown",
   "id": "4fac9786-9d3c-46c7-8daf-cb85e06641d4",
   "metadata": {},
   "source": [
    "1. Create a dictionary with key-value pairs corresponding to animals-years:\n",
    "mydict = {\"cat\":12, \"dog\":6, \"elephant\":23, \"turtle\": 300}"
   ]
  },
  {
   "cell_type": "code",
   "execution_count": 16,
   "id": "e5b01ecb-e4a3-4115-9747-611cb497e307",
   "metadata": {},
   "outputs": [
    {
     "name": "stdout",
     "output_type": "stream",
     "text": [
      "6\n",
      "6\n",
      "['cat', 'dog', 'elephant', 'turtle', 'hedgehog']\n",
      "[16, 6, 23, 300, 3]\n"
     ]
    }
   ],
   "source": [
    "# Create dictionary\n",
    "mydict = {\"cat\": 12, \"dog\": 6, \"elephant\": 23, \"turtle\": 300}\n",
    "\n",
    "# Print dog in different ways\n",
    "print(mydict[\"dog\"])\n",
    "print(mydict.get(\"dog\"))\n",
    "\n",
    "# Add hedgehog with the value 3\n",
    "mydict[\"hedgehog\"] = 3\n",
    "mydict\n",
    "# Overwrite cat to the value 16\n",
    "mydict[\"cat\"] = 16\n",
    "mydict\n",
    "# Print all keys as a list\n",
    "print(list(mydict.keys()))\n",
    "# Print all values as a list\n",
    "print(list(mydict.values()))"
   ]
  },
  {
   "cell_type": "markdown",
   "id": "f902b6e3-ea28-4c9d-8481-82d03b759444",
   "metadata": {},
   "source": [
    "2. Define a dictionary fruits with keys “price” and “stock”. The values of these keys will be two nested dictionaries. "
   ]
  },
  {
   "cell_type": "code",
   "execution_count": 26,
   "id": "38d8e323-8ae8-43b3-b4d9-681d740967ba",
   "metadata": {},
   "outputs": [
    {
     "name": "stdout",
     "output_type": "stream",
     "text": [
      "[1.2, 0.5, 1.75, 2.01, 1.53]\n",
      "Stock: [35, 60, 20, 90, 75]\n"
     ]
    }
   ],
   "source": [
    "# Define a dictionary fruits with keys, values as floats and integers as stock\n",
    "fruits = {\n",
    "    \"price\": {\n",
    "        \"banana\": 1.2,\n",
    "        \"orange\": 0.50,\n",
    "        \"kiwi\": 1.75,\n",
    "        \"apple\": 2.01},\n",
    "    \"stock\":{\n",
    "        \"banana\": 35,\n",
    "        \"orange\": 60,\n",
    "        \"kiwi\": 20,\n",
    "        \"apple\": 90\n",
    "    }\n",
    "}\n",
    "# Add the key melon with values\n",
    "fruits[\"price\"][\"melon\"] = 1.53\n",
    "fruits[\"stock\"][\"melon\"] = 75\n",
    "#Print all values of each sublist\n",
    "print(list(fruits['price'].values()))\n",
    "print(f\"Stock: {list(fruits['stock'].values())}\")"
   ]
  },
  {
   "cell_type": "markdown",
   "id": "3aa88664-2a1c-4f73-bc2c-d6076ff19976",
   "metadata": {},
   "source": [
    "3. Here is a dictionary with cities located in the US and Canada and their corresponding population. We have taken those numbers out the \"List of North American cities by population\" from Wikipedia (https://en.wikipedia.org/wiki/List_of_North_American_cities_by_population)"
   ]
  },
  {
   "cell_type": "code",
   "execution_count": 30,
   "id": "14386270-29f4-4eb8-9009-76ee0341af54",
   "metadata": {},
   "outputs": [
    {
     "name": "stdout",
     "output_type": "stream",
     "text": [
      "Population of Toronto: 2731571\n",
      "Cleared city population dictionary: {}\n"
     ]
    }
   ],
   "source": [
    "# Given dictionary with cities and their population\n",
    "city_population = {\n",
    "    \"New York City\": 8550405,\n",
    "    \"Los Angeles\": 3971883,\n",
    "    \"Toronto\": 2731571,\n",
    "    \"Chicago\": 2720546,\n",
    "    \"Houston\": 2296224,\n",
    "    \"Montreal\": 1704694,\n",
    "    \"Calgary\": 1239220,\n",
    "    \"Vancouver\": 631486,\n",
    "    \"Boston\": 667137\n",
    "}\n",
    "\n",
    "# Get the population of Toronto\n",
    "toronto_population = city_population[\"Toronto\"]\n",
    "print(f\"Population of Toronto: {toronto_population}\")\n",
    "\n",
    "# Add another entry to the dictionary\n",
    "city_population[\"Seattle\"] = 744955\n",
    "\n",
    "# Clear the dictionary\n",
    "city_population.clear()\n",
    "print(f\"Cleared city population dictionary: {city_population}\")\n"
   ]
  },
  {
   "cell_type": "markdown",
   "id": "7a5cbcd3-7c21-4493-8619-ba93aeb364b0",
   "metadata": {},
   "source": [
    "4.Work with a Translation Dictionary"
   ]
  },
  {
   "cell_type": "code",
   "execution_count": null,
   "id": "bccf21c6-3c8d-4cf1-ac6b-03b39c0f0d72",
   "metadata": {},
   "outputs": [],
   "source": [
    "# Given dictionary for translations\n",
    "\n"
   ]
  }
 ],
 "metadata": {
  "kernelspec": {
   "display_name": "Python 3 (ipykernel)",
   "language": "python",
   "name": "python3"
  },
  "language_info": {
   "codemirror_mode": {
    "name": "ipython",
    "version": 3
   },
   "file_extension": ".py",
   "mimetype": "text/x-python",
   "name": "python",
   "nbconvert_exporter": "python",
   "pygments_lexer": "ipython3",
   "version": "3.12.4"
  }
 },
 "nbformat": 4,
 "nbformat_minor": 5
}

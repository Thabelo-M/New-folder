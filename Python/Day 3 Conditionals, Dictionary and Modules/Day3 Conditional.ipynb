{
 "cells": [
  {
   "cell_type": "markdown",
   "id": "a60ec5b6-6804-4ded-ae22-5d003c883944",
   "metadata": {},
   "source": [
    "1. What will these expressions evaluate to?"
   ]
  },
  {
   "cell_type": "code",
   "execution_count": 6,
   "id": "779d7fc8-40e2-4cc4-a05c-31b38340577e",
   "metadata": {},
   "outputs": [
    {
     "name": "stdout",
     "output_type": "stream",
     "text": [
      "True\n",
      "False\n",
      "False\n",
      "False\n"
     ]
    }
   ],
   "source": [
    "# Expressions\n",
    "print(3 == 3)\n",
    "print(3 != 3)\n",
    "print(3 >= 4) \n",
    "print(not (3 < 4)) "
   ]
  },
  {
   "cell_type": "markdown",
   "id": "51e62f7f-2284-429f-a7df-3fa35047e226",
   "metadata": {},
   "source": [
    "2. What does this code print?"
   ]
  },
  {
   "cell_type": "code",
   "execution_count": 10,
   "id": "edfb0099-0842-4924-841d-f392ccf49dc1",
   "metadata": {},
   "outputs": [
    {
     "name": "stdout",
     "output_type": "stream",
     "text": [
      "False\n",
      "True\n"
     ]
    }
   ],
   "source": [
    "if 8 + 10 == 20:\n",
    "    print(\"True\")\n",
    "else:\n",
    "    print(\"False\")\n",
    "\n",
    "print(\"True\")"
   ]
  },
  {
   "cell_type": "markdown",
   "id": "9f3f62e6-6366-474f-8dbc-322397443943",
   "metadata": {},
   "source": [
    "3. What is the difference between these two codes? Are the results different?"
   ]
  },
  {
   "cell_type": "code",
   "execution_count": 14,
   "id": "5525dc6d-dc9d-4e6c-aff9-b4f4fabc6c85",
   "metadata": {},
   "outputs": [
    {
     "name": "stdout",
     "output_type": "stream",
     "text": [
      "a is different to b\n",
      "a is equal to 10\n",
      "b is equal to 0\n",
      "a is different to b\n"
     ]
    }
   ],
   "source": [
    "# First\n",
    "a = 10\n",
    "b = 0\n",
    "\n",
    "if a != b:\n",
    "    print(\"a is different to b\")\n",
    "\n",
    "if a == 10:\n",
    "    print(\"a is equal to 10\")\n",
    "\n",
    "if b == 0:\n",
    "    print(\"b is equal to 0\")\n",
    "# Second\n",
    "a = 10\n",
    "b = 0\n",
    "\n",
    "if a != b:\n",
    "    print(\"a is different to b\")\n",
    "\n",
    "elif a == 10:\n",
    "    print(\"a is equal to 10\")\n",
    "\n",
    "elif b == 0:\n",
    "    print(\"b is equal to 0\")"
   ]
  },
  {
   "cell_type": "markdown",
   "id": "24c27c69-e2e1-4bbd-9e58-a578f00e4a4d",
   "metadata": {},
   "source": [
    "4. What is wrong with the code?"
   ]
  },
  {
   "cell_type": "code",
   "execution_count": 20,
   "id": "c6721c38-6f29-4306-91cb-3b9db6645845",
   "metadata": {},
   "outputs": [
    {
     "name": "stdout",
     "output_type": "stream",
     "text": [
      "-10 is a negative number\n",
      "This is always printed\n",
      "bigger\n",
      "smaller\n",
      "equal\n",
      "c\n"
     ]
    }
   ],
   "source": [
    "x = -10\n",
    "\n",
    "if x < 0:\n",
    "    print(x, \"is a negative number\")\n",
    "else:\n",
    "    print(x, \"is a positive number\")\n",
    "print(\"This is always printed\")\n",
    "\n",
    "#Write a function with two parameters\n",
    "def compare_numbers(number1, number2):\n",
    "    if number1 > number2:\n",
    "        return \"bigger\"\n",
    "    elif number1 < number2:\n",
    "        return \"smaller\"\n",
    "    else:\n",
    "        return \"equal\"    \n",
    "print(compare_numbers(7, 4)) \n",
    "print(compare_numbers(1, 12))\n",
    "print(compare_numbers(2, 2))\n",
    "#What will the following code print when x = 13, y = 19 and z = 12\n",
    "x = 13\n",
    "y = 19\n",
    "z = 12\n",
    "\n",
    "if x < y and x < z:\n",
    "    print(\"a\")\n",
    "elif y < x and y < z:\n",
    "    print(\"b\")\n",
    "else:\n",
    "    print(\"c\")"
   ]
  },
  {
   "cell_type": "markdown",
   "id": "7af4c8bf-9d12-47d0-a3a6-b3a3b7da80d3",
   "metadata": {},
   "source": [
    "5. Nesting vs Without Nesting "
   ]
  },
  {
   "cell_type": "code",
   "execution_count": 24,
   "id": "904545a8-6544-4520-a5f8-99bbc3e61724",
   "metadata": {},
   "outputs": [
    {
     "name": "stdout",
     "output_type": "stream",
     "text": [
      "10 is a positive number\n",
      "10 is a positive number\n"
     ]
    }
   ],
   "source": [
    "# With Nesting\n",
    "x = 10\n",
    "\n",
    "if x < 0:\n",
    "    print(x, \"is a negative number\")\n",
    "else:\n",
    "    if x > 0:\n",
    "        print(x, \"is a positive number\")\n",
    "    else:\n",
    "        print(x, \"is 0\")\n",
    "# Without Nesting\n",
    "x = 10\n",
    "\n",
    "if x < 0:\n",
    "    print(x, \"is a negative number\")\n",
    "elif x > 0:\n",
    "    print(x, \"is a positive number\")\n",
    "else:\n",
    "    print(x, \"is 0\")"
   ]
  },
  {
   "cell_type": "markdown",
   "id": "08792155-6f78-45f5-9833-82d7dacd53e0",
   "metadata": {},
   "source": [
    "6. Given the list fruits "
   ]
  },
  {
   "cell_type": "code",
   "execution_count": 28,
   "id": "d1401734-1161-47e7-81ee-136bc1eb8df0",
   "metadata": {},
   "outputs": [
    {
     "name": "stdout",
     "output_type": "stream",
     "text": [
      "kiwi!!!\n"
     ]
    }
   ],
   "source": [
    "fruits = [\"papaya\", \"kiwi\", \"mango\"]\n",
    "\n",
    "print(\"kiwi!!!\") if \"kiwi\" in fruits else None"
   ]
  },
  {
   "cell_type": "markdown",
   "id": "8a46c278-57fa-48a8-bbf8-fd90d2764d8b",
   "metadata": {},
   "source": [
    "7. Assign 16 to the variable person"
   ]
  },
  {
   "cell_type": "code",
   "execution_count": 34,
   "id": "805e00d7-5066-4ae9-9068-b685756b4a77",
   "metadata": {},
   "outputs": [
    {
     "name": "stdout",
     "output_type": "stream",
     "text": [
      "minor\n",
      "True\n",
      "False\n"
     ]
    },
    {
     "name": "stdin",
     "output_type": "stream",
     "text": [
      "Enter a number:  45\n"
     ]
    },
    {
     "name": "stdout",
     "output_type": "stream",
     "text": [
      "50\n",
      "7\n",
      "7\n",
      "7\n"
     ]
    },
    {
     "name": "stdin",
     "output_type": "stream",
     "text": [
      "Enter the exam mark:  55\n"
     ]
    },
    {
     "name": "stdout",
     "output_type": "stream",
     "text": [
      "F\n"
     ]
    }
   ],
   "source": [
    "# Assign variable\n",
    "person = 16\n",
    "print(\"minor\" if person < 18 else \"adult\")\n",
    "\n",
    "# Conditional expression that checks if this person is under 18\n",
    "def minor(person):\n",
    "    return True if person < 18 else False\n",
    "\n",
    "print(minor(16))\n",
    "print(minor(19))\n",
    "\n",
    "# Get an input from a user, type-cast it into an integer and assign it to a variable\n",
    "user_input = int(input(\"Enter a number: \"))\n",
    "x = user_input + 5 if user_input >= 0 else user_input - 5\n",
    "print(x)\n",
    "\n",
    "# Create variables a and b and assign them any numerical values. Write a code that will check which of the two is larger, assigns it to a variable maxi and prints it\n",
    "# Try to achieve this in at least five different ways\n",
    "a = 7\n",
    "b = 5\n",
    "maxi = a if a > b else b\n",
    "print(maxi)\n",
    "\n",
    "maxi = max(a, b)\n",
    "print(maxi)\n",
    "\n",
    "maxi = (b, a)[a > b]\n",
    "print(maxi)\n",
    "\n",
    "# Write a code that checks an exam mark (you can use a variable of your choice or from an input from the user), and it prints a string\n",
    "mark = float(input(\"Enter the exam mark: \"))\n",
    "\n",
    "if mark >= 90:\n",
    "    print(\"A\")\n",
    "elif 80 <= mark < 90:\n",
    "    print(\"B\")\n",
    "elif 70 <= mark < 80:\n",
    "    print(\"C\")\n",
    "elif 60 <= mark < 70:\n",
    "    print(\"D\")\n",
    "else:\n",
    "    print(\"F\")"
   ]
  }
 ],
 "metadata": {
  "kernelspec": {
   "display_name": "Python 3 (ipykernel)",
   "language": "python",
   "name": "python3"
  },
  "language_info": {
   "codemirror_mode": {
    "name": "ipython",
    "version": 3
   },
   "file_extension": ".py",
   "mimetype": "text/x-python",
   "name": "python",
   "nbconvert_exporter": "python",
   "pygments_lexer": "ipython3",
   "version": "3.12.4"
  }
 },
 "nbformat": 4,
 "nbformat_minor": 5
}
